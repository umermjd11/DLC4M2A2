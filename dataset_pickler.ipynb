{
 "cells": [
  {
   "cell_type": "code",
   "execution_count": 2,
   "metadata": {},
   "outputs": [
    {
     "name": "stderr",
     "output_type": "stream",
     "text": [
      "2024-10-28 20:57:59.716613: I external/local_xla/xla/tsl/cuda/cudart_stub.cc:32] Could not find cuda drivers on your machine, GPU will not be used.\n",
      "2024-10-28 20:57:59.845998: I external/local_xla/xla/tsl/cuda/cudart_stub.cc:32] Could not find cuda drivers on your machine, GPU will not be used.\n",
      "2024-10-28 20:57:59.980339: E external/local_xla/xla/stream_executor/cuda/cuda_fft.cc:477] Unable to register cuFFT factory: Attempting to register factory for plugin cuFFT when one has already been registered\n",
      "WARNING: All log messages before absl::InitializeLog() is called are written to STDERR\n",
      "E0000 00:00:1730149080.175874    7198 cuda_dnn.cc:8310] Unable to register cuDNN factory: Attempting to register factory for plugin cuDNN when one has already been registered\n",
      "E0000 00:00:1730149080.277604    7198 cuda_blas.cc:1418] Unable to register cuBLAS factory: Attempting to register factory for plugin cuBLAS when one has already been registered\n",
      "2024-10-28 20:58:00.782005: I tensorflow/core/platform/cpu_feature_guard.cc:210] This TensorFlow binary is optimized to use available CPU instructions in performance-critical operations.\n",
      "To enable the following instructions: AVX2 FMA, in other operations, rebuild TensorFlow with the appropriate compiler flags.\n"
     ]
    },
    {
     "name": "stdout",
     "output_type": "stream",
     "text": [
      "Found 327 files belonging to 2 classes.\n",
      "Using 262 files for training.\n",
      "Found 327 files belonging to 2 classes.\n",
      "Using 65 files for validation.\n",
      "Classes: ['alpaca', 'not alpaca']\n"
     ]
    },
    {
     "name": "stderr",
     "output_type": "stream",
     "text": [
      "2024-10-28 20:58:04.135759: E external/local_xla/xla/stream_executor/cuda/cuda_driver.cc:152] failed call to cuInit: INTERNAL: CUDA error: Failed call to cuInit: UNKNOWN ERROR (303)\n",
      "2024-10-28 20:58:05.310222: I tensorflow/core/framework/local_rendezvous.cc:405] Local rendezvous is aborting with status: OUT_OF_RANGE: End of sequence\n"
     ]
    },
    {
     "name": "stdout",
     "output_type": "stream",
     "text": [
      "Total training examples: 262\n",
      "Total validation examples: 65\n",
      "Input shape: (160, 160, 3)\n"
     ]
    },
    {
     "name": "stderr",
     "output_type": "stream",
     "text": [
      "2024-10-28 20:58:05.602108: I tensorflow/core/framework/local_rendezvous.cc:405] Local rendezvous is aborting with status: OUT_OF_RANGE: End of sequence\n"
     ]
    }
   ],
   "source": [
    "import tensorflow as tf\n",
    "import os\n",
    "\n",
    "# Parameters\n",
    "IMAGE_SIZE = (160, 160)\n",
    "directory = './dataset'\n",
    "MY_SEED = 42\n",
    "batch_size = 32\n",
    "\n",
    "# Load datasets\n",
    "train_dataset = tf.keras.utils.image_dataset_from_directory(\n",
    "    directory,\n",
    "    batch_size=batch_size,\n",
    "    image_size=IMAGE_SIZE,\n",
    "    shuffle=True,\n",
    "    seed=MY_SEED,\n",
    "    subset='training',\n",
    "    validation_split=0.2\n",
    ")\n",
    "\n",
    "validation_dataset = tf.keras.utils.image_dataset_from_directory(\n",
    "    directory,\n",
    "    batch_size=batch_size,\n",
    "    image_size=IMAGE_SIZE,\n",
    "    subset='validation',\n",
    "    seed=MY_SEED,\n",
    "    validation_split=0.2,\n",
    "    shuffle=True\n",
    ")\n",
    "\n",
    "# Get class names\n",
    "class_names = train_dataset.class_names\n",
    "print(f\"Classes: {class_names}\")\n",
    "\n",
    "# Count total examples in training and validation datasets\n",
    "train_count = sum(len(batch) for batch, _ in train_dataset)\n",
    "validation_count = sum(len(batch) for batch, _ in validation_dataset)\n",
    "print(f\"Total training examples: {train_count}\")\n",
    "print(f\"Total validation examples: {validation_count}\")\n",
    "\n",
    "# Display input shape\n",
    "for images, _ in train_dataset.take(1):\n",
    "    input_shape = images.shape[1:]  # Take shape of one image in the first batch\n",
    "    print(f\"Input shape: {input_shape}\")\n"
   ]
  },
  {
   "cell_type": "code",
   "execution_count": 4,
   "metadata": {},
   "outputs": [
    {
     "name": "stdout",
     "output_type": "stream",
     "text": [
      "Data saved in './pickled_data' as 'train_data.pkl' and 'validation_data.pkl'.\n"
     ]
    }
   ],
   "source": [
    "import pickle\n",
    "import numpy as np\n",
    "# Create a new folder to store the pickled data\n",
    "output_folder = './pickled_data'\n",
    "os.makedirs(output_folder, exist_ok=True)\n",
    "\n",
    "# Function to convert dataset to numpy arrays\n",
    "def dataset_to_numpy(dataset):\n",
    "    images = []\n",
    "    labels = []\n",
    "    for image_batch, label_batch in dataset:\n",
    "        images.append(image_batch.numpy())\n",
    "        labels.append(label_batch.numpy())\n",
    "    return np.concatenate(images), np.concatenate(labels)\n",
    "\n",
    "# Convert train and validation datasets\n",
    "train_images, train_labels = dataset_to_numpy(train_dataset)\n",
    "validation_images, validation_labels = dataset_to_numpy(validation_dataset)\n",
    "\n",
    "# Save the train data\n",
    "with open(os.path.join(output_folder, 'train_data.pkl'), 'wb') as f:\n",
    "    pickle.dump((train_images, train_labels), f)\n",
    "\n",
    "# Save the validation data\n",
    "with open(os.path.join(output_folder, 'validation_data.pkl'), 'wb') as f:\n",
    "    pickle.dump((validation_images, validation_labels), f)\n",
    "\n",
    "print(f\"Data saved in '{output_folder}' as 'train_data.pkl' and 'validation_data.pkl'.\")"
   ]
  },
  {
   "cell_type": "code",
   "execution_count": null,
   "metadata": {},
   "outputs": [],
   "source": []
  }
 ],
 "metadata": {
  "kernelspec": {
   "display_name": "Python 3",
   "language": "python",
   "name": "python3"
  },
  "language_info": {
   "codemirror_mode": {
    "name": "ipython",
    "version": 3
   },
   "file_extension": ".py",
   "mimetype": "text/x-python",
   "name": "python",
   "nbconvert_exporter": "python",
   "pygments_lexer": "ipython3",
   "version": "3.12.1"
  }
 },
 "nbformat": 4,
 "nbformat_minor": 2
}
